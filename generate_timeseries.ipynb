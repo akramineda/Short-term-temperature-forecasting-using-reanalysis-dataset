{
 "cells": [
  {
   "cell_type": "code",
   "execution_count": 1,
   "metadata": {},
   "outputs": [],
   "source": [
    "## Import modules\n",
    "import xarray as xr"
   ]
  },
  {
   "cell_type": "code",
   "execution_count": 4,
   "metadata": {},
   "outputs": [],
   "source": [
    "## Reading nc file downloaded from ECMWF \n",
    "filename = r'./data/hourly_temp.nc'\n",
    "ds = xr.open_dataset(filename)\n"
   ]
  },
  {
   "cell_type": "code",
   "execution_count": null,
   "metadata": {},
   "outputs": [],
   "source": [
    "## Extract variables for specific region of dataset\n",
    "# These coordinates identify the rectangular box around Fars province\n",
    "# y\n",
    "llat = 27.0456\n",
    "ulat = 31.6696\n",
    "# x\n",
    "llon = 50.6032\n",
    "rlon = 55.5801\n",
    "\n",
    "alpha = 2  # scaling factor\n",
    "res = 0.25 # resolution of gridded data \n",
    "\n",
    "area_ds = ds.sel(longitude=slice(llon-alpha*res, rlon+alpha*res), \n",
    "                     latitude=slice(ulat+alpha*res, llat-alpha*res))\n",
    "\n",
    "area_ds"
   ]
  },
  {
   "cell_type": "code",
   "execution_count": null,
   "metadata": {},
   "outputs": [],
   "source": [
    "## Calculating the mean temperature of all grids\n",
    "mean_temp = area_ds.t_0001.combine_first(area_ds.t_0005).mean(dim=['latitude', 'longitude'])\n",
    "mean_temp"
   ]
  },
  {
   "cell_type": "code",
   "execution_count": null,
   "metadata": {},
   "outputs": [],
   "source": [
    "## Write time series at .csv file\n",
    "savefile = r'.\\data\\mean_T_hourly.csv'\n",
    "mean_temp.to_dataframe('Temperature').to_csv(savefile)\n"
   ]
  }
 ],
 "metadata": {
  "kernelspec": {
   "display_name": "Python 3",
   "language": "python",
   "name": "python3"
  },
  "language_info": {
   "codemirror_mode": {
    "name": "ipython",
    "version": 3
   },
   "file_extension": ".py",
   "mimetype": "text/x-python",
   "name": "python",
   "nbconvert_exporter": "python",
   "pygments_lexer": "ipython3",
   "version": "3.7.3"
  }
 },
 "nbformat": 4,
 "nbformat_minor": 4
}
